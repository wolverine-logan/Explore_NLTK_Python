{
 "cells": [
  {
   "cell_type": "markdown",
   "metadata": {
    "deletable": true,
    "editable": true
   },
   "source": [
    "### Word Sense Disambiguity"
   ]
  },
  {
   "cell_type": "markdown",
   "metadata": {
    "deletable": true,
    "editable": true
   },
   "source": [
    "Given the following sentences:\n",
    "\n",
    "    The agent will book the to the show for the entire family.\n",
    "    But you can generally book tickets online.\n",
    "    When you book tickets online they provide you with a book of stamps\n",
    "    \n",
    "If you could see the above sentences the word book is used in different context. In first two sentences the word book(verb) refers to the meaning 'reserve' while in the second portion of the third sentence book(noun) refers to a physical entity."
   ]
  },
  {
   "cell_type": "markdown",
   "metadata": {
    "deletable": true,
    "editable": true
   },
   "source": [
    "## Part - 1\n",
    "\n",
    "    Use the Lesk Module to find the similar words of the word *book* using the above sentences. Record your observations.\n",
    "    \n",
    "## Part - 2\n",
    "\n",
    "Tag sentences using Brill Tagger.\n",
    "\n",
    "### Brill Tagger\n",
    "\n",
    "The BrillTagger class is a **transformation-based tagger**. The BrillTagger class uses a series\n",
    "of rules to correct the results of an initial tagger. These rules are scored based on how many\n",
    "errors they correct minus the number of new errors they produce.\n",
    "\n",
    "The idea is simple Brill Tagger tries to correct the mistake made by the inital tagger. Brill tagger inputs an initial tagger and the templates which autmatically tells to create new rules based on the Training Set.\n",
    "\n",
    "**Recommended Steps:**\n",
    "\n",
    "1. Initially tag the sentence using POS Tagger. Then observe the POS tags for the word book in different context\n",
    "2. Then create a tagged_sentence using the POS Tagger correcting it with the mistakes it made.\n",
    "3. Now create a Brill Tagger using an initial tagger (POS) and pass templates(rules) to it.\n",
    "4. Train the Brill Tagger using the Tagged Sentence\n",
    "5. Test the Brill Tagger on the following sentences:\n",
    "       > \"I bought this book from Kerala\"\n",
    "       > \"He will book tickets to Kerala\"\n",
    "       \n",
    "## Part - 3\n",
    "\n",
    "    Perform Part-1 again but passing the POS tags produced by the Brill Tagger.\n",
    "    "
   ]
  },
  {
   "cell_type": "markdown",
   "metadata": {
    "deletable": true,
    "editable": true
   },
   "source": []
  },
  {
   "cell_type": "code",
   "execution_count": 1,
   "metadata": {
    "collapsed": true,
    "deletable": true,
    "editable": true
   },
   "outputs": [],
   "source": [
    "## Part1"
   ]
  },
  {
   "cell_type": "code",
   "execution_count": 3,
   "metadata": {
    "collapsed": true,
    "deletable": true,
    "editable": true
   },
   "outputs": [],
   "source": [
    "from nltk.wsd import lesk\n",
    "from nltk.tokenize import RegexpTokenizer, sent_tokenize\n",
    "import nltk"
   ]
  },
  {
   "cell_type": "code",
   "execution_count": 4,
   "metadata": {
    "collapsed": true,
    "deletable": true,
    "editable": true
   },
   "outputs": [],
   "source": [
    "sample_data = \"\"\"The agent will book the to the show for the entire family.\n",
    "But you can generally book tickets online.\n",
    "When you book tickets online they provide you with a book of stamps\"\"\""
   ]
  },
  {
   "cell_type": "code",
   "execution_count": 5,
   "metadata": {
    "collapsed": false,
    "deletable": true,
    "editable": true
   },
   "outputs": [
    {
     "name": "stdout",
     "output_type": "stream",
     "text": [
      "a written version of a play or other dramatic composition; used in preparing for a performance\n",
      "a written version of a play or other dramatic composition; used in preparing for a performance\n",
      "a written version of a play or other dramatic composition; used in preparing for a performance\n"
     ]
    }
   ],
   "source": [
    "sentences = sent_tokenize(sample_data)\n",
    "for line in sentences:\n",
    "    print(lesk(line, 'book').definition())"
   ]
  },
  {
   "cell_type": "markdown",
   "metadata": {
    "collapsed": true,
    "deletable": true,
    "editable": true
   },
   "source": [
    "## Part-2"
   ]
  },
  {
   "cell_type": "code",
   "execution_count": null,
   "metadata": {
    "collapsed": true,
    "deletable": true,
    "editable": true
   },
   "outputs": [],
   "source": [
    "# Using the Unigram tagger"
   ]
  },
  {
   "cell_type": "code",
   "execution_count": 9,
   "metadata": {
    "collapsed": true,
    "deletable": true,
    "editable": true
   },
   "outputs": [],
   "source": [
    "from nltk.corpus import brown\n",
    "from nltk.tokenize import word_tokenize\n",
    "    "
   ]
  },
  {
   "cell_type": "code",
   "execution_count": 10,
   "metadata": {
    "collapsed": false,
    "deletable": true,
    "editable": true
   },
   "outputs": [],
   "source": [
    "test_sentences = \"\"\"I bought this book from Kerala. He will book tickets to Kerala. The agent will book the to the show for the entire family.When you book tickets online they provide you with a book of stamps.\"\"\""
   ]
  },
  {
   "cell_type": "code",
   "execution_count": 11,
   "metadata": {
    "collapsed": true,
    "deletable": true,
    "editable": true
   },
   "outputs": [],
   "source": [
    "train = brown.tagged_sents()"
   ]
  },
  {
   "cell_type": "code",
   "execution_count": 12,
   "metadata": {
    "collapsed": false,
    "deletable": true,
    "editable": true
   },
   "outputs": [
    {
     "ename": "NameError",
     "evalue": "name 'words' is not defined",
     "output_type": "error",
     "traceback": [
      "\u001b[0;31m---------------------------------------------------------------------------\u001b[0m",
      "\u001b[0;31mNameError\u001b[0m                                 Traceback (most recent call last)",
      "\u001b[0;32m<ipython-input-12-6dc2639db00d>\u001b[0m in \u001b[0;36m<module>\u001b[0;34m()\u001b[0m\n\u001b[0;32m----> 1\u001b[0;31m \u001b[0mdefault_tagger\u001b[0m \u001b[0;34m=\u001b[0m \u001b[0mnltk\u001b[0m\u001b[0;34m.\u001b[0m\u001b[0mpos_tag\u001b[0m\u001b[0;34m(\u001b[0m\u001b[0mwords\u001b[0m\u001b[0;34m)\u001b[0m\u001b[0;34m\u001b[0m\u001b[0m\n\u001b[0m",
      "\u001b[0;31mNameError\u001b[0m: name 'words' is not defined"
     ]
    }
   ],
   "source": [
    "default_tagger = nltk.pos_tag(words)"
   ]
  },
  {
   "cell_type": "code",
   "execution_count": 13,
   "metadata": {
    "collapsed": false,
    "deletable": true,
    "editable": true
   },
   "outputs": [],
   "source": [
    "tagger = nltk.UnigramTagger(train)"
   ]
  },
  {
   "cell_type": "code",
   "execution_count": 14,
   "metadata": {
    "collapsed": false,
    "deletable": true,
    "editable": true
   },
   "outputs": [],
   "source": [
    "words = word_tokenize(test_sentences)"
   ]
  },
  {
   "cell_type": "code",
   "execution_count": 15,
   "metadata": {
    "collapsed": false,
    "deletable": true,
    "editable": true
   },
   "outputs": [
    {
     "data": {
      "text/plain": [
       "[('I', 'PPSS'),\n",
       " ('bought', 'VBD'),\n",
       " ('this', 'DT'),\n",
       " ('book', 'NN'),\n",
       " ('from', 'IN'),\n",
       " ('Kerala', None),\n",
       " ('.', '.'),\n",
       " ('He', 'PPS'),\n",
       " ('will', 'MD'),\n",
       " ('book', 'NN'),\n",
       " ('tickets', 'NNS'),\n",
       " ('to', 'TO'),\n",
       " ('Kerala', None),\n",
       " ('.', '.'),\n",
       " ('The', 'AT'),\n",
       " ('agent', 'NN'),\n",
       " ('will', 'MD'),\n",
       " ('book', 'NN'),\n",
       " ('the', 'AT'),\n",
       " ('to', 'TO'),\n",
       " ('the', 'AT'),\n",
       " ('show', 'VB'),\n",
       " ('for', 'IN'),\n",
       " ('the', 'AT'),\n",
       " ('entire', 'JJ'),\n",
       " ('family.When', None),\n",
       " ('you', 'PPSS'),\n",
       " ('book', 'NN'),\n",
       " ('tickets', 'NNS'),\n",
       " ('online', None),\n",
       " ('they', 'PPSS'),\n",
       " ('provide', 'VB'),\n",
       " ('you', 'PPSS'),\n",
       " ('with', 'IN'),\n",
       " ('a', 'AT'),\n",
       " ('book', 'NN'),\n",
       " ('of', 'IN'),\n",
       " ('stamps', 'NNS'),\n",
       " ('.', '.')]"
      ]
     },
     "execution_count": 15,
     "metadata": {},
     "output_type": "execute_result"
    }
   ],
   "source": [
    "tagger.tag(words)\n",
    "    "
   ]
  },
  {
   "cell_type": "code",
   "execution_count": 42,
   "metadata": {
    "collapsed": false,
    "deletable": true,
    "editable": true
   },
   "outputs": [
    {
     "data": {
      "text/plain": [
       "[('b', 'NN'), ('o', 'NN'), ('o', 'NN'), ('k', 'NN')]"
      ]
     },
     "execution_count": 42,
     "metadata": {},
     "output_type": "execute_result"
    }
   ],
   "source": [
    "tagger.tag('book')"
   ]
  },
  {
   "cell_type": "code",
   "execution_count": 43,
   "metadata": {
    "collapsed": true,
    "deletable": true,
    "editable": true
   },
   "outputs": [],
   "source": [
    "# Using the Bigram tagger"
   ]
  },
  {
   "cell_type": "code",
   "execution_count": 51,
   "metadata": {
    "collapsed": false,
    "deletable": true,
    "editable": true
   },
   "outputs": [],
   "source": [
    "default_tagger = nltk.pos_tag(words)"
   ]
  },
  {
   "cell_type": "code",
   "execution_count": 54,
   "metadata": {
    "collapsed": false,
    "deletable": true,
    "editable": true
   },
   "outputs": [],
   "source": [
    "tagger_bigram = nltk.BigramTagger(train, backoff = tagger)"
   ]
  },
  {
   "cell_type": "code",
   "execution_count": 49,
   "metadata": {
    "collapsed": false,
    "deletable": true,
    "editable": true
   },
   "outputs": [
    {
     "data": {
      "text/plain": [
       "[('I', 'PPSS'),\n",
       " ('bought', 'VBD'),\n",
       " ('this', 'DT'),\n",
       " ('book', 'NN'),\n",
       " ('from', 'IN'),\n",
       " ('Kerala', None),\n",
       " ('.', '.'),\n",
       " ('He', 'PPS'),\n",
       " ('will', 'MD'),\n",
       " ('book', 'NN'),\n",
       " ('tickets', 'NNS'),\n",
       " ('to', 'TO'),\n",
       " ('Kerala', None),\n",
       " ('.', '.'),\n",
       " ('The', 'AT'),\n",
       " ('agent', 'NN'),\n",
       " ('will', 'MD'),\n",
       " ('book', 'NN'),\n",
       " ('the', 'AT'),\n",
       " ('to', 'TO'),\n",
       " ('the', 'AT'),\n",
       " ('show', 'NN'),\n",
       " ('for', 'IN'),\n",
       " ('the', 'AT'),\n",
       " ('entire', 'JJ'),\n",
       " ('family.When', None),\n",
       " ('you', 'PPSS'),\n",
       " ('book', 'NN'),\n",
       " ('tickets', 'NNS'),\n",
       " ('online', None),\n",
       " ('they', 'PPSS'),\n",
       " ('provide', 'VB'),\n",
       " ('you', 'PPO'),\n",
       " ('with', 'IN'),\n",
       " ('a', 'AT'),\n",
       " ('book', 'NN'),\n",
       " ('of', 'IN'),\n",
       " ('stamps', 'NNS'),\n",
       " ('.', '.')]"
      ]
     },
     "execution_count": 49,
     "metadata": {},
     "output_type": "execute_result"
    }
   ],
   "source": [
    "tagger_bigram.tag(words)"
   ]
  },
  {
   "cell_type": "markdown",
   "metadata": {
    "deletable": true,
    "editable": true
   },
   "source": [
    "## Brill tagger"
   ]
  },
  {
   "cell_type": "code",
   "execution_count": 1,
   "metadata": {
    "collapsed": true
   },
   "outputs": [],
   "source": [
    "train_data = [[('The', 'AT'), ('agent', 'NN'), ('will', 'MD'), ('book', 'VB'), ('the', 'AT'), ('to', 'TO'), ('the', 'AT'), ('show', 'VB'), ('for', 'IN'), ('the', 'AT'), ('entire', 'JJ'), ('family', 'NN'), ('.', '.')],\n",
    "[('But', 'CC'), ('you', 'PPSS'), ('can', 'MD'), ('generally', 'RB'), ('book', 'VB'), ('tickets', 'NNS'), ('online', None), ('.', '.')],\n",
    "[('When', 'WRB'), ('you', 'PPSS'), ('book', 'VB'), ('tickets', 'NNS'), ('online', None), ('they', 'PPSS'), ('provide', 'VB'), ('you', 'PPSS'), ('with', 'IN'), ('a', 'AT'), ('book', 'NN'), ('of', 'IN'), ('stamps', 'NNS')]]"
   ]
  },
  {
   "cell_type": "code",
   "execution_count": 3,
   "metadata": {
    "collapsed": false
   },
   "outputs": [],
   "source": [
    "from nltk.data import load\n",
    "pos_tag = load('taggers/maxent_treebank_pos_tagger/english.pickle')"
   ]
  },
  {
   "cell_type": "code",
   "execution_count": null,
   "metadata": {
    "collapsed": true
   },
   "outputs": [],
   "source": []
  },
  {
   "cell_type": "code",
   "execution_count": 6,
   "metadata": {
    "collapsed": false,
    "deletable": true,
    "editable": true
   },
   "outputs": [
    {
     "name": "stdout",
     "output_type": "stream",
     "text": [
      "TBL train (fast) (seqs: 3; tokens: 34; tpls: 10; min score: 2; min acc: None)\n",
      "Finding initial useful rules...\n",
      "    Found 154 useful rules.\n",
      "\n",
      "           B      |\n",
      "   S   F   r   O  |        Score = Fixed - Broken\n",
      "   c   i   o   t  |  R     Fixed = num tags changed incorrect -> correct\n",
      "   o   x   k   h  |  u     Broken = num tags changed correct -> incorrect\n",
      "   r   e   e   e  |  l     Other = num tags changed incorrect -> incorrect\n",
      "   e   d   n   r  |  e\n",
      "------------------+-------------------------------------------------------\n",
      "   4   4   0   0  | DT->AT if Pos:NN@[1,2]\n",
      "   2   2   0   0  | PRP->PPSS if Pos:VBP@[1]\n"
     ]
    }
   ],
   "source": [
    "import nltk\n",
    "import nltk.tag\n",
    "from nltk.tag import brill\n",
    "from nltk.tag import UnigramTagger\n",
    "#from nltk.tag.brill import SymmetricProximateTokensTemplate, ProximateTokensTemplate\n",
    "#from nltk.tag.brill import ProximateTagsRule, ProximateWordsRule\n",
    "# The brill tagger module in NLTK.\n",
    "from nltk.tag import BrillTaggerTrainer\n",
    "    \n",
    "templates = [brill.Template(brill.Pos([1,1])),\n",
    "    brill.Template(brill.Pos([2,2])),\n",
    "    brill.Template(brill.Pos([1,2])),\n",
    "    brill.Template(brill.Pos([1,3])),\n",
    "    brill.Template(brill.Pos([1,1])),\n",
    "    brill.Template(brill.Pos([2,2])),\n",
    "    brill.Template(brill.Pos([1,2])),\n",
    "    brill.Template(brill.Pos([1,3])),\n",
    "    brill.Template(brill.Word([-1, -1])),\n",
    "    brill.Template(brill.Word([-1, -1]))]\n",
    "\n",
    "trainer2 = BrillTaggerTrainer(initial_tagger= pos_tag,\n",
    "                                   templates=templates, trace=3,\n",
    "                                   deterministic=True)\n",
    "brill_tagger = trainer2.train(train_data, max_rules=10)\n"
   ]
  },
  {
   "cell_type": "code",
   "execution_count": 21,
   "metadata": {
    "collapsed": false,
    "deletable": true,
    "editable": true
   },
   "outputs": [
    {
     "data": {
      "text/plain": [
       "[('I', 'PPSS'),\n",
       " ('bought', 'VBD'),\n",
       " ('this', 'AT'),\n",
       " ('book', 'NN'),\n",
       " ('from', 'IN'),\n",
       " ('Kerala', 'NNP'),\n",
       " ('.', '.'),\n",
       " ('He', 'PPSS'),\n",
       " ('will', 'MD'),\n",
       " ('book', 'VB'),\n",
       " ('tickets', 'NNS'),\n",
       " ('to', 'TO'),\n",
       " ('Kerala', 'NNP'),\n",
       " ('.', '.'),\n",
       " ('The', 'AT'),\n",
       " ('agent', 'NN'),\n",
       " ('will', 'MD'),\n",
       " ('book', 'VB'),\n",
       " ('the', 'AT'),\n",
       " ('to', 'TO'),\n",
       " ('the', 'AT'),\n",
       " ('show', 'NN'),\n",
       " ('for', 'IN'),\n",
       " ('the', 'DT'),\n",
       " ('entire', 'JJ'),\n",
       " ('family.When', 'JJ'),\n",
       " ('you', 'PPSS'),\n",
       " ('book', 'VBP'),\n",
       " ('tickets', 'NNS'),\n",
       " ('online', 'VBP'),\n",
       " ('they', 'PRP'),\n",
       " ('provide', 'VBP'),\n",
       " ('you', 'PPSS'),\n",
       " ('with', 'IN'),\n",
       " ('a', 'AT'),\n",
       " ('book', 'NN'),\n",
       " ('of', 'IN'),\n",
       " ('stamps', 'NNS'),\n",
       " ('.', '.')]"
      ]
     },
     "execution_count": 21,
     "metadata": {},
     "output_type": "execute_result"
    }
   ],
   "source": [
    "brill_tagger.tag(words)"
   ]
  },
  {
   "cell_type": "code",
   "execution_count": null,
   "metadata": {
    "collapsed": true
   },
   "outputs": [],
   "source": []
  }
 ],
 "metadata": {
  "kernelspec": {
   "display_name": "Python 3",
   "language": "python",
   "name": "python3"
  },
  "language_info": {
   "codemirror_mode": {
    "name": "ipython",
    "version": 3
   },
   "file_extension": ".py",
   "mimetype": "text/x-python",
   "name": "python",
   "nbconvert_exporter": "python",
   "pygments_lexer": "ipython3",
   "version": "3.5.2"
  }
 },
 "nbformat": 4,
 "nbformat_minor": 2
}
