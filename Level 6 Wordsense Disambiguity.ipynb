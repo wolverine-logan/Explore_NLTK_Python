{
 "cells": [
  {
   "cell_type": "markdown",
   "metadata": {
    "deletable": true,
    "editable": true
   },
   "source": [
    "### Word Sense Disambiguity"
   ]
  },
  {
   "cell_type": "markdown",
   "metadata": {
    "deletable": true,
    "editable": true
   },
   "source": [
    "Given the following sentences:\n",
    "\n",
    "    The agent will book the to the show for the entire family.\n",
    "    But you can generally book tickets online.\n",
    "    When you book tickets online they provide you with a book of stamps\n",
    "    \n",
    "If you could see the above sentences the word book is used in different context. In first two sentences the word book(verb) refers to the meaning 'reserve' while in the second portion of the third sentence book(noun) refers to a physical entity."
   ]
  },
  {
   "cell_type": "markdown",
   "metadata": {
    "deletable": true,
    "editable": true
   },
   "source": [
    "## Part - 1\n",
    "\n",
    "    Use the Lesk Module to find the similar words of the word *book* using the above sentences. Record your observations.\n",
    "    \n",
    "## Part - 2\n",
    "\n",
    "Tag sentences using Brill Tagger.\n",
    "\n",
    "### Brill Tagger\n",
    "\n",
    "The BrillTagger class is a **transformation-based tagger**. The BrillTagger class uses a series\n",
    "of rules to correct the results of an initial tagger. These rules are scored based on how many\n",
    "errors they correct minus the number of new errors they produce.\n",
    "\n",
    "The idea is simple Brill Tagger tries to correct the mistake made by the inital tagger. Brill tagger inputs an initial tagger and the templates which autmatically tells to create new rules based on the Training Set.\n",
    "\n",
    "**Recommended Steps:**\n",
    "\n",
    "1. Initially tag the sentence using POS Tagger. Then observe the POS tags for the word book in different context\n",
    "2. Then create a tagged_sentence using the POS Tagger correcting it with the mistakes it made.\n",
    "3. Now create a Brill Tagger using an initial tagger (POS) and pass templates(rules) to it.\n",
    "4. Train the Brill Tagger using the Tagged Sentence\n",
    "5. Test the Brill Tagger on the following sentences:\n",
    "       > \"I bought this book from Kerala\"\n",
    "       > \"He will book tickets to Kerala\"\n",
    "       \n",
    "## Part - 3\n",
    "\n",
    "    Perform Part-1 again but passing the POS tags produced by the Brill Tagger.\n",
    "    "
   ]
  },
  {
   "cell_type": "markdown",
   "metadata": {
    "deletable": true,
    "editable": true
   },
   "source": []
  },
  {
   "cell_type": "code",
   "execution_count": 1,
   "metadata": {
    "collapsed": true,
    "deletable": true,
    "editable": true
   },
   "outputs": [],
   "source": [
    "## Part1"
   ]
  },
  {
   "cell_type": "code",
   "execution_count": 3,
   "metadata": {
    "collapsed": true,
    "deletable": true,
    "editable": true
   },
   "outputs": [],
   "source": [
    "from nltk.wsd import lesk\n",
    "from nltk.tokenize import RegexpTokenizer, sent_tokenize\n",
    "import nltk"
   ]
  },
  {
   "cell_type": "code",
   "execution_count": 4,
   "metadata": {
    "collapsed": true,
    "deletable": true,
    "editable": true
   },
   "outputs": [],
   "source": [
    "sample_data = \"\"\"The agent will book the to the show for the entire family.\n",
    "But you can generally book tickets online.\n",
    "When you book tickets online they provide you with a book of stamps\"\"\""
   ]
  },
  {
   "cell_type": "code",
   "execution_count": 5,
   "metadata": {
    "collapsed": false,
    "deletable": true,
    "editable": true
   },
   "outputs": [
    {
     "name": "stdout",
     "output_type": "stream",
     "text": [
      "a written version of a play or other dramatic composition; used in preparing for a performance\n",
      "a written version of a play or other dramatic composition; used in preparing for a performance\n",
      "a written version of a play or other dramatic composition; used in preparing for a performance\n"
     ]
    }
   ],
   "source": [
    "sentences = sent_tokenize(sample_data)\n",
    "for line in sentences:\n",
    "    print(lesk(line, 'book').definition())"
   ]
  },
  {
   "cell_type": "markdown",
   "metadata": {
    "collapsed": true,
    "deletable": true,
    "editable": true
   },
   "source": [
    "## Part-2"
   ]
  },
  {
   "cell_type": "code",
   "execution_count": null,
   "metadata": {
    "collapsed": true
   },
   "outputs": [],
   "source": [
    "# Using the Unigram tagger"
   ]
  },
  {
   "cell_type": "code",
   "execution_count": 36,
   "metadata": {
    "collapsed": true,
    "deletable": true,
    "editable": true
   },
   "outputs": [],
   "source": [
    "from nltk.corpus import brown\n",
    "from nltk.tokenize import word_tokenize\n",
    "    "
   ]
  },
  {
   "cell_type": "code",
   "execution_count": 37,
   "metadata": {
    "collapsed": false
   },
   "outputs": [],
   "source": [
    "test_sentences = \"\"\"I bought this book from Kerala. He will book tickets to Kerala. The agent will book the to the show for the entire family.When you book tickets online they provide you with a book of stamps.\"\"\""
   ]
  },
  {
   "cell_type": "code",
   "execution_count": 38,
   "metadata": {
    "collapsed": true
   },
   "outputs": [],
   "source": [
    "train = brown.tagged_sents()"
   ]
  },
  {
   "cell_type": "code",
   "execution_count": 55,
   "metadata": {
    "collapsed": true
   },
   "outputs": [],
   "source": [
    "default_tagger = nltk.pos_tag(words)"
   ]
  },
  {
   "cell_type": "code",
   "execution_count": 57,
   "metadata": {
    "collapsed": false,
    "deletable": true,
    "editable": true
   },
   "outputs": [],
   "source": [
    "tagger = nltk.UnigramTagger(train)"
   ]
  },
  {
   "cell_type": "code",
   "execution_count": 40,
   "metadata": {
    "collapsed": false,
    "deletable": true,
    "editable": true
   },
   "outputs": [],
   "source": [
    "words = word_tokenize(test_sentences)"
   ]
  },
  {
   "cell_type": "code",
   "execution_count": 41,
   "metadata": {
    "collapsed": false
   },
   "outputs": [
    {
     "data": {
      "text/plain": [
       "[('I', 'PPSS'),\n",
       " ('bought', 'VBD'),\n",
       " ('this', 'DT'),\n",
       " ('book', 'NN'),\n",
       " ('from', 'IN'),\n",
       " ('Kerala', None),\n",
       " ('.', '.'),\n",
       " ('He', 'PPS'),\n",
       " ('will', 'MD'),\n",
       " ('book', 'NN'),\n",
       " ('tickets', 'NNS'),\n",
       " ('to', 'TO'),\n",
       " ('Kerala', None),\n",
       " ('.', '.'),\n",
       " ('The', 'AT'),\n",
       " ('agent', 'NN'),\n",
       " ('will', 'MD'),\n",
       " ('book', 'NN'),\n",
       " ('the', 'AT'),\n",
       " ('to', 'TO'),\n",
       " ('the', 'AT'),\n",
       " ('show', 'VB'),\n",
       " ('for', 'IN'),\n",
       " ('the', 'AT'),\n",
       " ('entire', 'JJ'),\n",
       " ('family.When', None),\n",
       " ('you', 'PPSS'),\n",
       " ('book', 'NN'),\n",
       " ('tickets', 'NNS'),\n",
       " ('online', None),\n",
       " ('they', 'PPSS'),\n",
       " ('provide', 'VB'),\n",
       " ('you', 'PPSS'),\n",
       " ('with', 'IN'),\n",
       " ('a', 'AT'),\n",
       " ('book', 'NN'),\n",
       " ('of', 'IN'),\n",
       " ('stamps', 'NNS'),\n",
       " ('.', '.')]"
      ]
     },
     "execution_count": 41,
     "metadata": {},
     "output_type": "execute_result"
    }
   ],
   "source": [
    "tagger.tag(words)\n",
    "    "
   ]
  },
  {
   "cell_type": "code",
   "execution_count": 42,
   "metadata": {
    "collapsed": false
   },
   "outputs": [
    {
     "data": {
      "text/plain": [
       "[('b', 'NN'), ('o', 'NN'), ('o', 'NN'), ('k', 'NN')]"
      ]
     },
     "execution_count": 42,
     "metadata": {},
     "output_type": "execute_result"
    }
   ],
   "source": [
    "tagger.tag('book')"
   ]
  },
  {
   "cell_type": "code",
   "execution_count": 43,
   "metadata": {
    "collapsed": true
   },
   "outputs": [],
   "source": [
    "# Using the Bigram tagger"
   ]
  },
  {
   "cell_type": "code",
   "execution_count": 51,
   "metadata": {
    "collapsed": false
   },
   "outputs": [],
   "source": [
    "default_tagger = nltk.pos_tag(words)"
   ]
  },
  {
   "cell_type": "code",
   "execution_count": 54,
   "metadata": {
    "collapsed": false
   },
   "outputs": [],
   "source": [
    "tagger_bigram = nltk.BigramTagger(train, backoff = tagger)"
   ]
  },
  {
   "cell_type": "code",
   "execution_count": 49,
   "metadata": {
    "collapsed": false
   },
   "outputs": [
    {
     "data": {
      "text/plain": [
       "[('I', 'PPSS'),\n",
       " ('bought', 'VBD'),\n",
       " ('this', 'DT'),\n",
       " ('book', 'NN'),\n",
       " ('from', 'IN'),\n",
       " ('Kerala', None),\n",
       " ('.', '.'),\n",
       " ('He', 'PPS'),\n",
       " ('will', 'MD'),\n",
       " ('book', 'NN'),\n",
       " ('tickets', 'NNS'),\n",
       " ('to', 'TO'),\n",
       " ('Kerala', None),\n",
       " ('.', '.'),\n",
       " ('The', 'AT'),\n",
       " ('agent', 'NN'),\n",
       " ('will', 'MD'),\n",
       " ('book', 'NN'),\n",
       " ('the', 'AT'),\n",
       " ('to', 'TO'),\n",
       " ('the', 'AT'),\n",
       " ('show', 'NN'),\n",
       " ('for', 'IN'),\n",
       " ('the', 'AT'),\n",
       " ('entire', 'JJ'),\n",
       " ('family.When', None),\n",
       " ('you', 'PPSS'),\n",
       " ('book', 'NN'),\n",
       " ('tickets', 'NNS'),\n",
       " ('online', None),\n",
       " ('they', 'PPSS'),\n",
       " ('provide', 'VB'),\n",
       " ('you', 'PPO'),\n",
       " ('with', 'IN'),\n",
       " ('a', 'AT'),\n",
       " ('book', 'NN'),\n",
       " ('of', 'IN'),\n",
       " ('stamps', 'NNS'),\n",
       " ('.', '.')]"
      ]
     },
     "execution_count": 49,
     "metadata": {},
     "output_type": "execute_result"
    }
   ],
   "source": [
    "tagger_bigram.tag(words)"
   ]
  },
  {
   "cell_type": "markdown",
   "metadata": {},
   "source": [
    "## Brill tagger"
   ]
  },
  {
   "cell_type": "code",
   "execution_count": null,
   "metadata": {
    "collapsed": true
   },
   "outputs": [],
   "source": [
    "import nltk\n",
    "import nltk.tag\n",
    "from nltk.tag import brill\n",
    "from nltk.tag import UnigramTagger\n",
    "#from nltk.tag.brill import SymmetricProximateTokensTemplate, ProximateTokensTemplate\n",
    "#from nltk.tag.brill import ProximateTagsRule, ProximateWordsRule\n",
    "# The brill tagger module in NLTK.\n",
    "from nltk.tag import BrillTaggerTrainer\n",
    "    unigram_tagger = nltk.pos_tag()\n",
    "templates = [brill.Template(brill.Pos([1,1])),\n",
    "    brill.Template(brill.Pos([2,2])),\n",
    "    brill.Template(brill.Pos([1,2])),\n",
    "    brill.Template(brill.Pos([1,3])),\n",
    "    brill.Template(brill.Pos([1,1])),\n",
    "    brill.Template(brill.Pos([2,2])),\n",
    "    brill.Template(brill.Pos([1,2])),\n",
    "    brill.Template(brill.Pos([1,3])),\n",
    "    brill.Template(brill.Word([-1, -1])),\n",
    "    brill.Template(brill.Word([-1, -1]))]\n",
    "\n",
    "trainer2 = BrillTaggerTrainer(initial_tagger=unigram_tagger,\n",
    "                                   templates=templates, trace=3,\n",
    "                                   deterministic=True)\n",
    "brill_tagger = trainer2.train(data, max_rules=10)\n"
   ]
  },
  {
   "cell_type": "code",
   "execution_count": 88,
   "metadata": {
    "collapsed": false
   },
   "outputs": [],
   "source": [
    "tagger = brill_tagger.tag(words)"
   ]
  },
  {
   "cell_type": "code",
   "execution_count": 89,
   "metadata": {
    "collapsed": false
   },
   "outputs": [
    {
     "data": {
      "text/plain": [
       "[('I', 'PPSS'),\n",
       " ('bought', 'VBD'),\n",
       " ('this', 'DT'),\n",
       " ('book', 'NN'),\n",
       " ('from', 'IN'),\n",
       " ('Kerala', None),\n",
       " ('.', '.'),\n",
       " ('He', 'PPS'),\n",
       " ('will', 'MD'),\n",
       " ('book', 'NN'),\n",
       " ('tickets', 'NNS'),\n",
       " ('to', 'TO'),\n",
       " ('Kerala', None),\n",
       " ('.', '.'),\n",
       " ('The', 'AT'),\n",
       " ('agent', 'NN'),\n",
       " ('will', 'MD'),\n",
       " ('book', 'NN'),\n",
       " ('the', 'AT'),\n",
       " ('to', 'IN'),\n",
       " ('the', 'AT'),\n",
       " ('show', 'VB'),\n",
       " ('for', 'IN'),\n",
       " ('the', 'AT'),\n",
       " ('entire', 'JJ'),\n",
       " ('family.When', None),\n",
       " ('you', 'PPSS'),\n",
       " ('book', 'NN'),\n",
       " ('tickets', 'NNS'),\n",
       " ('online', None),\n",
       " ('they', 'PPSS'),\n",
       " ('provide', 'VB'),\n",
       " ('you', 'PPSS'),\n",
       " ('with', 'IN'),\n",
       " ('a', 'AT'),\n",
       " ('book', 'NN'),\n",
       " ('of', 'IN'),\n",
       " ('stamps', 'NNS'),\n",
       " ('.', '.')]"
      ]
     },
     "execution_count": 89,
     "metadata": {},
     "output_type": "execute_result"
    }
   ],
   "source": [
    "tagger"
   ]
  },
  {
   "cell_type": "code",
   "execution_count": 90,
   "metadata": {
    "collapsed": false
   },
   "outputs": [
    {
     "data": {
      "text/plain": [
       "[[('The', 'AT'), ('Fulton', 'NP-TL'), ('County', 'NN-TL'), ('Grand', 'JJ-TL'), ('Jury', 'NN-TL'), ('said', 'VBD'), ('Friday', 'NR'), ('an', 'AT'), ('investigation', 'NN'), ('of', 'IN'), (\"Atlanta's\", 'NP$'), ('recent', 'JJ'), ('primary', 'NN'), ('election', 'NN'), ('produced', 'VBD'), ('``', '``'), ('no', 'AT'), ('evidence', 'NN'), (\"''\", \"''\"), ('that', 'CS'), ('any', 'DTI'), ('irregularities', 'NNS'), ('took', 'VBD'), ('place', 'NN'), ('.', '.')], [('The', 'AT'), ('jury', 'NN'), ('further', 'RBR'), ('said', 'VBD'), ('in', 'IN'), ('term-end', 'NN'), ('presentments', 'NNS'), ('that', 'CS'), ('the', 'AT'), ('City', 'NN-TL'), ('Executive', 'JJ-TL'), ('Committee', 'NN-TL'), (',', ','), ('which', 'WDT'), ('had', 'HVD'), ('over-all', 'JJ'), ('charge', 'NN'), ('of', 'IN'), ('the', 'AT'), ('election', 'NN'), (',', ','), ('``', '``'), ('deserves', 'VBZ'), ('the', 'AT'), ('praise', 'NN'), ('and', 'CC'), ('thanks', 'NNS'), ('of', 'IN'), ('the', 'AT'), ('City', 'NN-TL'), ('of', 'IN-TL'), ('Atlanta', 'NP-TL'), (\"''\", \"''\"), ('for', 'IN'), ('the', 'AT'), ('manner', 'NN'), ('in', 'IN'), ('which', 'WDT'), ('the', 'AT'), ('election', 'NN'), ('was', 'BEDZ'), ('conducted', 'VBN'), ('.', '.')], ...]"
      ]
     },
     "execution_count": 90,
     "metadata": {},
     "output_type": "execute_result"
    }
   ],
   "source": [
    "train"
   ]
  },
  {
   "cell_type": "code",
   "execution_count": null,
   "metadata": {
    "collapsed": true
   },
   "outputs": [],
   "source": [
    "e"
   ]
  }
 ],
 "metadata": {
  "kernelspec": {
   "display_name": "Python 3",
   "language": "python",
   "name": "python3"
  },
  "language_info": {
   "codemirror_mode": {
    "name": "ipython",
    "version": 3
   },
   "file_extension": ".py",
   "mimetype": "text/x-python",
   "name": "python",
   "nbconvert_exporter": "python",
   "pygments_lexer": "ipython3",
   "version": "3.5.2"
  }
 },
 "nbformat": 4,
 "nbformat_minor": 2
}
