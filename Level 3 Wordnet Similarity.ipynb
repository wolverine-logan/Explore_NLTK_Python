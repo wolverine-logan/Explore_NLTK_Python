{
 "cells": [
  {
   "cell_type": "markdown",
   "metadata": {
    "deletable": true,
    "editable": true
   },
   "source": [
    "## Wordnet Similarity"
   ]
  },
  {
   "cell_type": "markdown",
   "metadata": {
    "deletable": true,
    "editable": true
   },
   "source": [
    "### Part - 1\n",
    "   \n",
    "    1. Find the top 5 occuring words(ignoring the stop words) and then find the words most similar to them. Use the extract given below.\n",
    "    \n",
    "    2. For any given word visualize how two words are similar"
   ]
  },
  {
   "cell_type": "markdown",
   "metadata": {
    "deletable": true,
    "editable": true
   },
   "source": [
    "~~~~\n",
    "The Supreme Court ruled last week in the case of Fane Lozman vs the City of Riviera Beach, Florida. They decided that Lozman’s 60-foot, two-story, motorless, rudderless floating home was not a boat or a vessel, and hence should not have been seized under maritime law and destroyed by the city.\n",
    "\n",
    "With the line between house and boat a little bit clearer, reader Steve asked us to clarify something else: “What defines a boat, versus a ship?”\n",
    "\n",
    "One of the quickest ways to reveal yourself as a landlubber is to refer to a ship as a boat, but there’s no absolute distinction between the two, and even experienced mariners rely on local custom and usage to differentiate them. \n",
    "\n",
    "Back in the Age of Sail, a ship was pretty well defined as a vessel with three or more square rigged masts. As different methods of power generation replaced wind and sail, the ships of old became more specifically known as “sailing ships,” and the usage of ship broadened to cover a wide, ill-defined variety of vessels. \n",
    "\n",
    "One thing that sets a ship apart from a boat is size. According the U.S. Naval Institute, a boat, generally speaking, is small enough to be carried aboard a larger vessel, and a vessel large enough to carry a smaller one is a ship. Or, as Steve says his Navy Lieutenant father put it to him, “You can put a boat on a ship, but you can’t put a ship on a boat.”\n",
    "\n",
    "Now, this Naval convention is a good rule of thumb most of the time, but there are a few exceptions, among both naval and civilian vessels. Some yachts, ferries, tug boats, fishing boats, police boats, etc. can carry small lifeboats or dinghies, but they usually don’t graduate to ship status because of that. On the other hand, a large container ship or the USS Cole can be carried aboard an even bigger ship without getting demoted to a boat. \n",
    "\n",
    "The U.S. Navy seems to want to have it both ways with their submarines. One component of each vessel’s official name is USS—that is, United States Ship—but seamen, the Naval Institute says, usually refer to submarines in general as boats, regardless of size. \n",
    "~~~~\n"
   ]
  },
  {
   "cell_type": "code",
   "execution_count": 163,
   "metadata": {
    "collapsed": true,
    "deletable": true,
    "editable": true
   },
   "outputs": [],
   "source": [
    "sample_data = \"\"\"The Supreme Court ruled last week in the case of Fane Lozman vs the City of Riviera Beach, Florida. They decided that Lozman’s 60-foot, two-story, motorless, rudderless floating home was not a boat or a vessel, and hence should not have been seized under maritime law and destroyed by the city.\n",
    "\n",
    "With the line between house and boat a little bit clearer, reader Steve asked us to clarify something else: “What defines a boat, versus a ship?”\n",
    "\n",
    "One of the quickest ways to reveal yourself as a landlubber is to refer to a ship as a boat, but there’s no absolute distinction between the two, and even experienced mariners rely on local custom and usage to differentiate them. \n",
    "\n",
    "Back in the Age of Sail, a ship was pretty well defined as a vessel with three or more square rigged masts. As different methods of power generation replaced wind and sail, the ships of old became more specifically known as “sailing ships,” and the usage of ship broadened to cover a wide, ill-defined variety of vessels. \n",
    "\n",
    "One thing that sets a ship apart from a boat is size. According the U.S. Naval Institute, a boat, generally speaking, is small enough to be carried aboard a larger vessel, and a vessel large enough to carry a smaller one is a ship. Or, as Steve says his Navy Lieutenant father put it to him, “You can put a boat on a ship, but you can’t put a ship on a boat.”\n",
    "\n",
    "Now, this Naval convention is a good rule of thumb most of the time, but there are a few exceptions, among both naval and civilian vessels. Some yachts, ferries, tug boats, fishing boats, police boats, etc. can carry small lifeboats or dinghies, but they usually don’t graduate to ship status because of that. On the other hand, a large container ship or the USS Cole can be carried aboard an even bigger ship without getting demoted to a boat. \n",
    "\n",
    "The U.S. Navy seems to want to have it both ways with their submarines. One component of each vessel’s official name is USS—that is, United States Ship—but seamen, the Naval Institute says, usually refer to submarines in general as boats, regardless of size.\"\"\""
   ]
  },
  {
   "cell_type": "code",
   "execution_count": 164,
   "metadata": {
    "collapsed": false
   },
   "outputs": [],
   "source": [
    "from nltk.corpus import stopwords"
   ]
  },
  {
   "cell_type": "code",
   "execution_count": 165,
   "metadata": {
    "collapsed": true
   },
   "outputs": [],
   "source": [
    "from nltk.tokenize import RegexpTokenizer, word_tokenize"
   ]
  },
  {
   "cell_type": "code",
   "execution_count": 166,
   "metadata": {
    "collapsed": true
   },
   "outputs": [],
   "source": [
    "from nltk import FreqDist"
   ]
  },
  {
   "cell_type": "code",
   "execution_count": 167,
   "metadata": {
    "collapsed": true
   },
   "outputs": [],
   "source": [
    "from nltk.stem import WordNetLemmatizer"
   ]
  },
  {
   "cell_type": "code",
   "execution_count": 168,
   "metadata": {
    "collapsed": true
   },
   "outputs": [],
   "source": [
    "stop_words = set(stopwords.words('english'))"
   ]
  },
  {
   "cell_type": "markdown",
   "metadata": {},
   "source": [
    "## Occurences of Words"
   ]
  },
  {
   "cell_type": "code",
   "execution_count": 227,
   "metadata": {
    "collapsed": true
   },
   "outputs": [],
   "source": [
    "pattern = RegexpTokenizer(r'\\w+')\n",
    "words = pattern.tokenize(sample_data)"
   ]
  },
  {
   "cell_type": "code",
   "execution_count": 228,
   "metadata": {
    "collapsed": true
   },
   "outputs": [],
   "source": [
    "#Remove punctuation\n",
    "words = [word for word in words if len(word) > 1]"
   ]
  },
  {
   "cell_type": "code",
   "execution_count": 229,
   "metadata": {
    "collapsed": false
   },
   "outputs": [],
   "source": [
    "#Remove numbers\n",
    "#words = [word for word in words if not word.isnumeric()]\n"
   ]
  },
  {
   "cell_type": "code",
   "execution_count": 230,
   "metadata": {
    "collapsed": true
   },
   "outputs": [],
   "source": [
    "lemmatizer = WordNetLemmatizer()"
   ]
  },
  {
   "cell_type": "code",
   "execution_count": 231,
   "metadata": {
    "collapsed": true
   },
   "outputs": [],
   "source": [
    "#Lemmatize the words\n",
    "filtered_words = []\n",
    "for word in words:\n",
    "    filtered_words.append(lemmatizer.lemmatize(word.lower()))"
   ]
  },
  {
   "cell_type": "code",
   "execution_count": 232,
   "metadata": {
    "collapsed": false
   },
   "outputs": [],
   "source": [
    "#Remove StopWords\n",
    "words = [word for word in filtered_words if word.lower() not in stop_words]"
   ]
  },
  {
   "cell_type": "code",
   "execution_count": 233,
   "metadata": {
    "collapsed": false
   },
   "outputs": [],
   "source": [
    "#find frequency distribution\n",
    "fdist =  FreqDist(words)"
   ]
  },
  {
   "cell_type": "code",
   "execution_count": 234,
   "metadata": {
    "collapsed": false
   },
   "outputs": [
    {
     "name": "stdout",
     "output_type": "stream",
     "text": [
      "ship:14\n",
      "boat:13\n",
      "vessel:7\n",
      "one:4\n",
      "naval:4\n"
     ]
    }
   ],
   "source": [
    "for word, frequency in fdist.most_common(5):\n",
    "    print(u'{}:{}'.format(word, frequency))"
   ]
  },
  {
   "cell_type": "markdown",
   "metadata": {},
   "source": [
    "## Similarity"
   ]
  },
  {
   "cell_type": "code",
   "execution_count": 235,
   "metadata": {
    "collapsed": true
   },
   "outputs": [],
   "source": [
    "from nltk.corpus import wordnet"
   ]
  },
  {
   "cell_type": "code",
   "execution_count": 236,
   "metadata": {
    "collapsed": false
   },
   "outputs": [],
   "source": [
    "#Findind the synonyms\n",
    "synonymns = []\n",
    "for word, frequency in fdist.most_common(5):\n",
    "    synonymns.append(wordnet.synsets(word))"
   ]
  },
  {
   "cell_type": "code",
   "execution_count": 237,
   "metadata": {
    "collapsed": false
   },
   "outputs": [
    {
     "data": {
      "text/plain": [
       "[[Synset('ship.n.01'),\n",
       "  Synset('transport.v.04'),\n",
       "  Synset('ship.v.02'),\n",
       "  Synset('embark.v.01'),\n",
       "  Synset('ship.v.04'),\n",
       "  Synset('ship.v.05')],\n",
       " [Synset('boat.n.01'), Synset('gravy_boat.n.01'), Synset('boat.v.01')],\n",
       " [Synset('vessel.n.01'), Synset('vessel.n.02'), Synset('vessel.n.03')],\n",
       " [Synset('one.n.01'),\n",
       "  Synset('one.n.02'),\n",
       "  Synset('one.s.01'),\n",
       "  Synset('one.s.02'),\n",
       "  Synset('one.s.03'),\n",
       "  Synset('one.s.04'),\n",
       "  Synset('one.s.05'),\n",
       "  Synset('one.s.06'),\n",
       "  Synset('matchless.s.01')],\n",
       " [Synset('naval.a.01')]]"
      ]
     },
     "execution_count": 237,
     "metadata": {},
     "output_type": "execute_result"
    }
   ],
   "source": [
    "synonymns"
   ]
  },
  {
   "cell_type": "code",
   "execution_count": 238,
   "metadata": {
    "collapsed": false
   },
   "outputs": [
    {
     "name": "stdout",
     "output_type": "stream",
     "text": [
      "[Synset('naval.a.01')]\n"
     ]
    }
   ],
   "source": [
    "print(syns)"
   ]
  },
  {
   "cell_type": "code",
   "execution_count": 239,
   "metadata": {
    "collapsed": false
   },
   "outputs": [
    {
     "name": "stdout",
     "output_type": "stream",
     "text": [
      "naval\n"
     ]
    }
   ],
   "source": [
    "print(syns[0].lemmas()[0].name())"
   ]
  },
  {
   "cell_type": "code",
   "execution_count": 240,
   "metadata": {
    "collapsed": false
   },
   "outputs": [
    {
     "name": "stdout",
     "output_type": "stream",
     "text": [
      "ship\n",
      "transport\n",
      "ship\n",
      "embark\n",
      "ship\n",
      "ship\n",
      "boat\n",
      "gravy_boat\n",
      "boat\n",
      "vessel\n",
      "vessel\n",
      "vessel\n",
      "one\n",
      "one\n",
      "one\n",
      "one\n",
      "one\n",
      "one\n",
      "one\n",
      "one\n",
      "matchless\n",
      "naval\n"
     ]
    }
   ],
   "source": [
    "for syns in synonymns:\n",
    "    for item in syns:\n",
    "        print(item.lemmas()[0].name())"
   ]
  },
  {
   "cell_type": "code",
   "execution_count": 241,
   "metadata": {
    "collapsed": true
   },
   "outputs": [],
   "source": [
    "most_common = []\n",
    "for word, frequency in fdist.most_common(5):\n",
    "    most_common.append(word)"
   ]
  },
  {
   "cell_type": "code",
   "execution_count": 242,
   "metadata": {
    "collapsed": false
   },
   "outputs": [
    {
     "data": {
      "text/plain": [
       "['ship', 'boat', 'vessel', 'one', 'naval']"
      ]
     },
     "execution_count": 242,
     "metadata": {},
     "output_type": "execute_result"
    }
   ],
   "source": [
    "most_common"
   ]
  },
  {
   "cell_type": "code",
   "execution_count": 243,
   "metadata": {
    "collapsed": false
   },
   "outputs": [],
   "source": [
    "k = wordnet.synsets('fane')"
   ]
  },
  {
   "cell_type": "code",
   "execution_count": 244,
   "metadata": {
    "collapsed": false
   },
   "outputs": [
    {
     "data": {
      "text/plain": [
       "[]"
      ]
     },
     "execution_count": 244,
     "metadata": {},
     "output_type": "execute_result"
    }
   ],
   "source": [
    "k"
   ]
  },
  {
   "cell_type": "code",
   "execution_count": null,
   "metadata": {
    "collapsed": true
   },
   "outputs": [],
   "source": []
  },
  {
   "cell_type": "code",
   "execution_count": 277,
   "metadata": {
    "collapsed": false
   },
   "outputs": [],
   "source": [
    "sim_dict ={}\n",
    "for item in most_common:\n",
    "    item_1 = wordnet.synset(wordnet.synsets(item)[0].name())\n",
    "    big = 0\n",
    "    for word in words:\n",
    "        if(word!=item):\n",
    "            #print(word)\n",
    "            word1 = word\n",
    "            word = wordnet.synsets(word)\n",
    "            if(len(word)!=0):\n",
    "                word = wordnet.synset(word[0].name())\n",
    "                similiar = item_1.wup_similarity(word)\n",
    "                if(similiar != None and similiar>big):\n",
    "                    big = similiar\n",
    "                    sim_word = word1\n",
    "    sim_dict.update({item:[sim_word, big]})\n",
    "               #print(item_1.wup_similarity(word))\n",
    "        "
   ]
  },
  {
   "cell_type": "code",
   "execution_count": 278,
   "metadata": {
    "collapsed": false
   },
   "outputs": [
    {
     "data": {
      "text/plain": [
       "NoneType"
      ]
     },
     "execution_count": 278,
     "metadata": {},
     "output_type": "execute_result"
    }
   ],
   "source": [
    "type(similiar)"
   ]
  },
  {
   "cell_type": "code",
   "execution_count": 279,
   "metadata": {
    "collapsed": false
   },
   "outputs": [
    {
     "data": {
      "text/plain": [
       "{'boat': ['ferry', 0.9565217391304348],\n",
       " 'naval': ['two', 0],\n",
       " 'one': ['two', 0.875],\n",
       " 'ship': ['boat', 0.9090909090909091],\n",
       " 'vessel': ['back', 0.7142857142857143]}"
      ]
     },
     "execution_count": 279,
     "metadata": {},
     "output_type": "execute_result"
    }
   ],
   "source": [
    "sim_dict"
   ]
  },
  {
   "cell_type": "markdown",
   "metadata": {},
   "source": [
    "## Visualise"
   ]
  },
  {
   "cell_type": "code",
   "execution_count": 290,
   "metadata": {
    "collapsed": false
   },
   "outputs": [
    {
     "data": {
      "image/png": "[encoded data removed]",
      "text/plain": [
       "<matplotlib.figure.Figure at 0x7f1ad6a357b8>"
      ]
     },
     "metadata": {},
     "output_type": "display_data"
    }
   ],
   "source": [
    "from nltk.corpus import wordnet as wn\n",
    "import networkx as nx\n",
    "import matplotlib.pyplot as plt\n",
    "\n",
    "def closure_graph(synset, fn):\n",
    "    seen = set()\n",
    "    graph = nx.DiGraph()\n",
    "\n",
    "    def recurse(s):\n",
    "        if not s in seen:\n",
    "            seen.add(s)\n",
    "            graph.add_node(s.name())\n",
    "            for s1 in fn(s):\n",
    "                graph.add_node(s1.name())\n",
    "                graph.add_edge(s.name(), s1.name())\n",
    "                recurse(s1)\n",
    "\n",
    "    recurse(synset)\n",
    "    return graph\n",
    "\n",
    "\n",
    "ship = wn.synsets('ship')[0]\n",
    "G = closure_graph(ship,\n",
    "                      lambda s: s.hypernyms())\n",
    "boat = wn.synsets('boat')[0]\n",
    "G2 = closure_graph(boat,\n",
    "                      lambda s: s.hypernyms())\n",
    "index = nx.betweenness_centrality(G)\n",
    "index2 = nx.betweenness_centrality(G2)\n",
    "plt.rc('figure', figsize=(10, 10))\n",
    "node_size = [index[n]*1000 for n in G]\n",
    "node_size_2 = [index2[n1]*1000 for n1 in G2]\n",
    "pos = nx.spring_layout(G)\n",
    "pos2 = nx.spring_layout(G2)\n",
    "nx.draw_networkx(G, pos, node_size=node_size, edge_color='r', alpha=.3, linewidths=0)\n",
    "nx.draw_networkx(G2, pos2, node_size=node_size_2, edge_color='b', alpha=.3, linewidths=0)\n",
    "plt.show()"
   ]
  },
  {
   "cell_type": "code",
   "execution_count": null,
   "metadata": {
    "collapsed": true
   },
   "outputs": [],
   "source": []
  }
 ],
 "metadata": {
  "kernelspec": {
   "display_name": "Python 3",
   "language": "python",
   "name": "python3"
  },
  "language_info": {
   "codemirror_mode": {
    "name": "ipython",
    "version": 3
   },
   "file_extension": ".py",
   "mimetype": "text/x-python",
   "name": "python",
   "nbconvert_exporter": "python",
   "pygments_lexer": "ipython3",
   "version": "3.5.2"
  }
 },
 "nbformat": 4,
 "nbformat_minor": 2
}
